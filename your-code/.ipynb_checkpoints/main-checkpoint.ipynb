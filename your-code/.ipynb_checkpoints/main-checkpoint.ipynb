{
 "cells": [
  {
   "cell_type": "markdown",
   "metadata": {},
   "source": [
    "# List Comprehensions Lab\n",
    "\n",
    "Complete the following set of exercises to solidify your knowledge of list comprehensions."
   ]
  },
  {
   "cell_type": "code",
   "execution_count": 1,
   "metadata": {},
   "outputs": [],
   "source": [
    "import os\n",
    "import numpy as np\n",
    "import pandas as pd"
   ]
  },
  {
   "cell_type": "markdown",
   "metadata": {},
   "source": [
    "### 1. Use a list comprehension to create and print a list of consecutive integers starting with 1 and ending with 50."
   ]
  },
  {
   "cell_type": "code",
   "execution_count": 11,
   "metadata": {},
   "outputs": [
    {
     "data": {
      "text/plain": [
       "[1,\n",
       " 2,\n",
       " 3,\n",
       " 4,\n",
       " 5,\n",
       " 6,\n",
       " 7,\n",
       " 8,\n",
       " 9,\n",
       " 10,\n",
       " 11,\n",
       " 12,\n",
       " 13,\n",
       " 14,\n",
       " 15,\n",
       " 16,\n",
       " 17,\n",
       " 18,\n",
       " 19,\n",
       " 20,\n",
       " 21,\n",
       " 22,\n",
       " 23,\n",
       " 24,\n",
       " 25,\n",
       " 26,\n",
       " 27,\n",
       " 28,\n",
       " 29,\n",
       " 30,\n",
       " 31,\n",
       " 32,\n",
       " 33,\n",
       " 34,\n",
       " 35,\n",
       " 36,\n",
       " 37,\n",
       " 38,\n",
       " 39,\n",
       " 40,\n",
       " 41,\n",
       " 42,\n",
       " 43,\n",
       " 44,\n",
       " 45,\n",
       " 46,\n",
       " 47,\n",
       " 48,\n",
       " 49,\n",
       " 50]"
      ]
     },
     "execution_count": 11,
     "metadata": {},
     "output_type": "execute_result"
    }
   ],
   "source": [
    "[i+1 for i in range(50)]"
   ]
  },
  {
   "cell_type": "markdown",
   "metadata": {},
   "source": [
    "### 2. Use a list comprehension to create and print a list of even numbers starting with 2 and ending with 200."
   ]
  },
  {
   "cell_type": "code",
   "execution_count": 18,
   "metadata": {},
   "outputs": [
    {
     "data": {
      "text/plain": [
       "[2,\n",
       " 4,\n",
       " 6,\n",
       " 8,\n",
       " 10,\n",
       " 12,\n",
       " 14,\n",
       " 16,\n",
       " 18,\n",
       " 20,\n",
       " 22,\n",
       " 24,\n",
       " 26,\n",
       " 28,\n",
       " 30,\n",
       " 32,\n",
       " 34,\n",
       " 36,\n",
       " 38,\n",
       " 40,\n",
       " 42,\n",
       " 44,\n",
       " 46,\n",
       " 48,\n",
       " 50,\n",
       " 52,\n",
       " 54,\n",
       " 56,\n",
       " 58,\n",
       " 60,\n",
       " 62,\n",
       " 64,\n",
       " 66,\n",
       " 68,\n",
       " 70,\n",
       " 72,\n",
       " 74,\n",
       " 76,\n",
       " 78,\n",
       " 80,\n",
       " 82,\n",
       " 84,\n",
       " 86,\n",
       " 88,\n",
       " 90,\n",
       " 92,\n",
       " 94,\n",
       " 96,\n",
       " 98,\n",
       " 100,\n",
       " 102,\n",
       " 104,\n",
       " 106,\n",
       " 108,\n",
       " 110,\n",
       " 112,\n",
       " 114,\n",
       " 116,\n",
       " 118,\n",
       " 120,\n",
       " 122,\n",
       " 124,\n",
       " 126,\n",
       " 128,\n",
       " 130,\n",
       " 132,\n",
       " 134,\n",
       " 136,\n",
       " 138,\n",
       " 140,\n",
       " 142,\n",
       " 144,\n",
       " 146,\n",
       " 148,\n",
       " 150,\n",
       " 152,\n",
       " 154,\n",
       " 156,\n",
       " 158,\n",
       " 160,\n",
       " 162,\n",
       " 164,\n",
       " 166,\n",
       " 168,\n",
       " 170,\n",
       " 172,\n",
       " 174,\n",
       " 176,\n",
       " 178,\n",
       " 180,\n",
       " 182,\n",
       " 184,\n",
       " 186,\n",
       " 188,\n",
       " 190,\n",
       " 192,\n",
       " 194,\n",
       " 196,\n",
       " 198,\n",
       " 200]"
      ]
     },
     "execution_count": 18,
     "metadata": {},
     "output_type": "execute_result"
    }
   ],
   "source": [
    "[i+2 for i in range(200) if i % 2 == 0]"
   ]
  },
  {
   "cell_type": "markdown",
   "metadata": {},
   "source": [
    "### 3. Use a list comprehension to create and print a list containing all elements of the 10 x 4 Numpy array below."
   ]
  },
  {
   "cell_type": "code",
   "execution_count": 38,
   "metadata": {},
   "outputs": [],
   "source": [
    "a = np.array([[0.84062117, 0.48006452, 0.7876326 , 0.77109654],\n",
    "       [0.44409793, 0.09014516, 0.81835917, 0.87645456],\n",
    "       [0.7066597 , 0.09610873, 0.41247947, 0.57433389],\n",
    "       [0.29960807, 0.42315023, 0.34452557, 0.4751035 ],\n",
    "       [0.17003563, 0.46843998, 0.92796258, 0.69814654],\n",
    "       [0.41290051, 0.19561071, 0.16284783, 0.97016248],\n",
    "       [0.71725408, 0.87702738, 0.31244595, 0.76615487],\n",
    "       [0.20754036, 0.57871812, 0.07214068, 0.40356048],\n",
    "       [0.12149553, 0.53222417, 0.9976855 , 0.12536346],\n",
    "       [0.80930099, 0.50962849, 0.94555126, 0.33364763]])"
   ]
  },
  {
   "cell_type": "code",
   "execution_count": 50,
   "metadata": {},
   "outputs": [
    {
     "data": {
      "text/plain": [
       "[0.84062117,\n",
       " 0.48006452,\n",
       " 0.7876326,\n",
       " 0.77109654,\n",
       " 0.44409793,\n",
       " 0.09014516,\n",
       " 0.81835917,\n",
       " 0.87645456,\n",
       " 0.7066597,\n",
       " 0.09610873,\n",
       " 0.41247947,\n",
       " 0.57433389,\n",
       " 0.29960807,\n",
       " 0.42315023,\n",
       " 0.34452557,\n",
       " 0.4751035,\n",
       " 0.17003563,\n",
       " 0.46843998,\n",
       " 0.92796258,\n",
       " 0.69814654,\n",
       " 0.41290051,\n",
       " 0.19561071,\n",
       " 0.16284783,\n",
       " 0.97016248,\n",
       " 0.71725408,\n",
       " 0.87702738,\n",
       " 0.31244595,\n",
       " 0.76615487,\n",
       " 0.20754036,\n",
       " 0.57871812,\n",
       " 0.07214068,\n",
       " 0.40356048,\n",
       " 0.12149553,\n",
       " 0.53222417,\n",
       " 0.9976855,\n",
       " 0.12536346,\n",
       " 0.80930099,\n",
       " 0.50962849,\n",
       " 0.94555126,\n",
       " 0.33364763]"
      ]
     },
     "execution_count": 50,
     "metadata": {},
     "output_type": "execute_result"
    }
   ],
   "source": [
    "[i for fila in a for i in fila]"
   ]
  },
  {
   "cell_type": "markdown",
   "metadata": {},
   "source": [
    "### 4. Add a condition to the list comprehension above so that only values greater than or equal to 0.5 are printed."
   ]
  },
  {
   "cell_type": "code",
   "execution_count": 60,
   "metadata": {},
   "outputs": [
    {
     "data": {
      "text/plain": [
       "[0.84062117,\n",
       " 0.7876326,\n",
       " 0.77109654,\n",
       " 0.81835917,\n",
       " 0.87645456,\n",
       " 0.7066597,\n",
       " 0.57433389,\n",
       " 0.92796258,\n",
       " 0.69814654,\n",
       " 0.97016248,\n",
       " 0.71725408,\n",
       " 0.87702738,\n",
       " 0.76615487,\n",
       " 0.57871812,\n",
       " 0.53222417,\n",
       " 0.9976855,\n",
       " 0.80930099,\n",
       " 0.50962849,\n",
       " 0.94555126]"
      ]
     },
     "execution_count": 60,
     "metadata": {},
     "output_type": "execute_result"
    }
   ],
   "source": [
    "[i for fila in a for i in fila if i>0.5]"
   ]
  },
  {
   "cell_type": "markdown",
   "metadata": {},
   "source": [
    "### 5. Use a list comprehension to create and print a list containing all elements of the 5 x 2 x 3 Numpy array below."
   ]
  },
  {
   "cell_type": "code",
   "execution_count": 22,
   "metadata": {},
   "outputs": [],
   "source": [
    "b = np.array([[[0.55867166, 0.06210792, 0.08147297],\n",
    "        [0.82579068, 0.91512478, 0.06833034]],\n",
    "\n",
    "       [[0.05440634, 0.65857693, 0.30296619],\n",
    "        [0.06769833, 0.96031863, 0.51293743]],\n",
    "\n",
    "       [[0.09143215, 0.71893382, 0.45850679],\n",
    "        [0.58256464, 0.59005654, 0.56266457]],\n",
    "\n",
    "       [[0.71600294, 0.87392666, 0.11434044],\n",
    "        [0.8694668 , 0.65669313, 0.10708681]],\n",
    "\n",
    "       [[0.07529684, 0.46470767, 0.47984544],\n",
    "        [0.65368638, 0.14901286, 0.23760688]]])"
   ]
  },
  {
   "cell_type": "code",
   "execution_count": 92,
   "metadata": {},
   "outputs": [
    {
     "data": {
      "text/plain": [
       "[0.55867166,\n",
       " 0.06210792,\n",
       " 0.08147297,\n",
       " 0.82579068,\n",
       " 0.91512478,\n",
       " 0.06833034,\n",
       " 0.05440634,\n",
       " 0.65857693,\n",
       " 0.30296619,\n",
       " 0.06769833,\n",
       " 0.96031863,\n",
       " 0.51293743,\n",
       " 0.09143215,\n",
       " 0.71893382,\n",
       " 0.45850679,\n",
       " 0.58256464,\n",
       " 0.59005654,\n",
       " 0.56266457,\n",
       " 0.71600294,\n",
       " 0.87392666,\n",
       " 0.11434044,\n",
       " 0.8694668,\n",
       " 0.65669313,\n",
       " 0.10708681,\n",
       " 0.07529684,\n",
       " 0.46470767,\n",
       " 0.47984544,\n",
       " 0.65368638,\n",
       " 0.14901286,\n",
       " 0.23760688]"
      ]
     },
     "execution_count": 92,
     "metadata": {},
     "output_type": "execute_result"
    }
   ],
   "source": [
    "[i for fila in b for col in fila for i in col]"
   ]
  },
  {
   "cell_type": "markdown",
   "metadata": {},
   "source": [
    "### 5. Add a condition to the list comprehension above so that the last value in each subarray is printed, but only if it is less than or equal to 0.5."
   ]
  },
  {
   "cell_type": "code",
   "execution_count": 94,
   "metadata": {},
   "outputs": [
    {
     "data": {
      "text/plain": [
       "[0.55867166,\n",
       " 0.82579068,\n",
       " 0.91512478,\n",
       " 0.65857693,\n",
       " 0.96031863,\n",
       " 0.51293743,\n",
       " 0.71893382,\n",
       " 0.58256464,\n",
       " 0.59005654,\n",
       " 0.56266457,\n",
       " 0.71600294,\n",
       " 0.87392666,\n",
       " 0.8694668,\n",
       " 0.65669313,\n",
       " 0.65368638]"
      ]
     },
     "execution_count": 94,
     "metadata": {},
     "output_type": "execute_result"
    }
   ],
   "source": [
    "[i for fila in b for col in fila for i in col if i>0.5]"
   ]
  },
  {
   "cell_type": "markdown",
   "metadata": {},
   "source": [
    "### 6. Use a list comprehension to select and print the names of all CSV files in the */data* directory."
   ]
  },
  {
   "cell_type": "code",
   "execution_count": 98,
   "metadata": {},
   "outputs": [],
   "source": [
    "import os\n",
    "import pandas as pd\n",
    "from pathlib import Path\n",
    "import numpy as np\n",
    "import glob"
   ]
  },
  {
   "cell_type": "code",
   "execution_count": 96,
   "metadata": {},
   "outputs": [
    {
     "data": {
      "text/plain": [
       "['sample_file_1.csv',\n",
       " 'sample_file_0.csv',\n",
       " 'sample_file_2.csv',\n",
       " 'sample_file_3.csv',\n",
       " 'sample_file_7.csv',\n",
       " 'sample_file_6.csv',\n",
       " 'sample_file_4.csv',\n",
       " 'sample_file_5.csv',\n",
       " 'sample_file_8.csv',\n",
       " 'sample_file_9.csv']"
      ]
     },
     "execution_count": 96,
     "metadata": {},
     "output_type": "execute_result"
    }
   ],
   "source": [
    "p = Path(\"/Users/nestormirandabaez/Ironhack/Module_1/Week_1/01-lab-list-comprehensions/data\")\n",
    "[ele.name for ele in p.iterdir() if ele.suffix == '.csv']\n"
   ]
  },
  {
   "cell_type": "markdown",
   "metadata": {},
   "source": [
    "### 7. Use a list comprehension and the Pandas `read_csv` and `concat` methods to read all CSV files in the */data* directory and combine them into a single data frame. Display the top 10 rows of the resulting data frame."
   ]
  },
  {
   "cell_type": "code",
   "execution_count": 222,
   "metadata": {},
   "outputs": [],
   "source": [
    "all_files = [ele for ele in p.iterdir() if ele.suffix == '.csv']\n",
    "li = []\n",
    "\n",
    "for filename in all_files:\n",
    "    df = pd.read_csv(filename)\n",
    "    li.append(df)\n",
    "\n",
    "frame = pd.concat(li)"
   ]
  },
  {
   "cell_type": "code",
   "execution_count": 224,
   "metadata": {},
   "outputs": [
    {
     "name": "stdout",
     "output_type": "stream",
     "text": [
      "          0         1         2         3         4         5         6  \\\n",
      "0  0.276827  0.260054  0.942397  0.113187  0.781355  0.475740  0.152061   \n",
      "1  0.995885  0.158381  0.244274  0.962163  0.651900  0.930665  0.577190   \n",
      "2  0.641917  0.821055  0.392437  0.782617  0.510762  0.428320  0.017324   \n",
      "3  0.806532  0.569258  0.148175  0.809987  0.459632  0.735762  0.730664   \n",
      "4  0.311185  0.501165  0.365979  0.782807  0.776795  0.797199  0.791946   \n",
      "0  0.734751  0.195362  0.734309  0.598184  0.763433  0.263434  0.868066   \n",
      "1  0.772607  0.445391  0.249642  0.787922  0.598583  0.827238  0.624126   \n",
      "2  0.226428  0.268764  0.694262  0.622335  0.063843  0.122683  0.815625   \n",
      "3  0.362748  0.495430  0.113876  0.594149  0.612522  0.625204  0.864050   \n",
      "4  0.033415  0.340433  0.464971  0.363737  0.025815  0.434129  0.415163   \n",
      "\n",
      "          7         8         9        10        11        12        13  \\\n",
      "0  0.250324  0.147078  0.162984  0.977025  0.509619  0.593212  0.911839   \n",
      "1  0.087914  0.960261  0.580840  0.194616  0.661459  0.674085  0.049326   \n",
      "2  0.680720  0.340412  0.462513  0.785776  0.251949  0.032847  0.995700   \n",
      "3  0.934502  0.080322  0.763502  0.398504  0.027637  0.409665  0.942846   \n",
      "4  0.847157  0.771811  0.233944  0.522344  0.053030  0.208551  0.824354   \n",
      "0  0.058092  0.753502  0.587513  0.311608  0.178356  0.182922  0.147631   \n",
      "1  0.601524  0.688753  0.338870  0.081595  0.471474  0.267443  0.453351   \n",
      "2  0.584542  0.032594  0.589775  0.764350  0.650973  0.565705  0.691784   \n",
      "3  0.260279  0.528873  0.168043  0.715929  0.677014  0.175735  0.632370   \n",
      "4  0.892210  0.381701  0.415264  0.790801  0.696930  0.819751  0.944029   \n",
      "\n",
      "         14        15        16        17        18        19  \n",
      "0  0.257645  0.386457  0.696932  0.069162  0.952291  0.286542  \n",
      "1  0.785803  0.315645  0.495355  0.232135  0.549324  0.572232  \n",
      "2  0.816563  0.735692  0.435998  0.430411  0.531757  0.489528  \n",
      "3  0.133256  0.157158  0.929446  0.402791  0.685976  0.246594  \n",
      "4  0.588567  0.604341  0.232964  0.229109  0.022881  0.479022  \n",
      "0  0.391188  0.816049  0.749068  0.293260  0.937828  0.880858  \n",
      "1  0.800716  0.045749  0.683793  0.389789  0.016787  0.503695  \n",
      "2  0.265223  0.739031  0.560394  0.334802  0.517694  0.646110  \n",
      "3  0.926715  0.085675  0.120525  0.141746  0.771144  0.489660  \n",
      "4  0.869965  0.041723  0.819140  0.676051  0.109349  0.872947  \n"
     ]
    }
   ],
   "source": [
    "print(frame.head(10))"
   ]
  },
  {
   "cell_type": "markdown",
   "metadata": {},
   "source": [
    "### 8. Use a list comprehension to select and print the column numbers for columns from the data set whose median is less than 0.48."
   ]
  },
  {
   "cell_type": "code",
   "execution_count": 225,
   "metadata": {},
   "outputs": [
    {
     "name": "stdout",
     "output_type": "stream",
     "text": [
      "[          2         9        12        14        17\n",
      "0  0.942397  0.162984  0.593212  0.257645  0.069162\n",
      "1  0.244274  0.580840  0.674085  0.785803  0.232135\n",
      "2  0.392437  0.462513  0.032847  0.816563  0.430411\n",
      "3  0.148175  0.763502  0.409665  0.133256  0.402791\n",
      "4  0.365979  0.233944  0.208551  0.588567  0.229109\n",
      "0  0.734309  0.587513  0.182922  0.391188  0.293260\n",
      "1  0.249642  0.338870  0.267443  0.800716  0.389789\n",
      "2  0.694262  0.589775  0.565705  0.265223  0.334802\n",
      "3  0.113876  0.168043  0.175735  0.926715  0.141746\n",
      "4  0.464971  0.415264  0.819751  0.869965  0.676051\n",
      "0  0.918270  0.591727  0.177649  0.202404  0.159040\n",
      "1  0.916655  0.586035  0.915342  0.489504  0.358977\n",
      "2  0.954057  0.867511  0.552062  0.739656  0.602166\n",
      "3  0.475459  0.410444  0.856437  0.326310  0.361873\n",
      "4  0.336707  0.194299  0.531840  0.084884  0.437889\n",
      "0  0.500995  0.037230  0.153783  0.330318  0.033474\n",
      "1  0.152394  0.543442  0.580359  0.931264  0.509798\n",
      "2  0.179986  0.181267  0.070744  0.948127  0.074394\n",
      "3  0.681403  0.513575  0.082292  0.088025  0.515933\n",
      "4  0.029834  0.956949  0.454788  0.095214  0.513342\n",
      "0  0.735894  0.895810  0.617711  0.336094  0.856135\n",
      "1  0.797730  0.674311  0.015081  0.132391  0.752866\n",
      "2  0.892328  0.131970  0.034188  0.098536  0.655947\n",
      "3  0.959355  0.105477  0.400774  0.844655  0.807400\n",
      "4  0.736542  0.390542  0.366139  0.175482  0.904593\n",
      "0  0.245083  0.783107  0.207432  0.349212  0.886644\n",
      "1  0.467321  0.048724  0.721515  0.338366  0.773155\n",
      "2  0.005691  0.847337  0.898464  0.443979  0.302786\n",
      "3  0.833368  0.547769  0.931623  0.821099  0.183948\n",
      "4  0.184239  0.212762  0.634487  0.394633  0.538712\n",
      "0  0.596603  0.717817  0.394465  0.084206  0.267455\n",
      "1  0.708804  0.737445  0.073603  0.798467  0.631497\n",
      "2  0.567476  0.418311  0.234886  0.421263  0.726412\n",
      "3  0.121713  0.360098  0.847880  0.490628  0.567280\n",
      "4  0.553956  0.197302  0.473574  0.413186  0.351496\n",
      "0  0.183148  0.080025  0.543498  0.960030  0.660811\n",
      "1  0.802663  0.156926  0.940414  0.933377  0.407580\n",
      "2  0.120652  0.048815  0.090451  0.192501  0.858956\n",
      "3  0.476889  0.349850  0.841210  0.101031  0.149982\n",
      "4  0.055405  0.449771  0.158077  0.730355  0.078734\n",
      "0  0.673568  0.111557  0.446974  0.713369  0.982256\n",
      "1  0.850528  0.892183  0.429496  0.283769  0.688337\n",
      "2  0.807189  0.184300  0.573440  0.032852  0.719610\n",
      "3  0.407187  0.684265  0.756593  0.551369  0.792803\n",
      "4  0.392800  0.634608  0.682941  0.450950  0.221165\n",
      "0  0.160848  0.882762  0.016789  0.984182  0.867894\n",
      "1  0.089925  0.412141  0.176157  0.834378  0.602258\n",
      "2  0.789796  0.633154  0.908288  0.462130  0.076819\n",
      "3  0.935787  0.892383  0.846208  0.471880  0.665568\n",
      "4  0.273505  0.922742  0.389451  0.129955  0.365442]\n"
     ]
    }
   ],
   "source": [
    "mini_df= []\n",
    "filter = (np.median(frame,axis=0) < 0.48)\n",
    "mini_df.append(frame.loc[: , filter])\n",
    "\n",
    "print(mini_df)"
   ]
  },
  {
   "cell_type": "markdown",
   "metadata": {},
   "source": [
    "### 9. Use a list comprehension to add a new column (20) to the data frame whose values are the values in column 19 minus 0.1. Display the top 10 rows of the resulting data frame."
   ]
  },
  {
   "cell_type": "code",
   "execution_count": 235,
   "metadata": {},
   "outputs": [
    {
     "name": "stdout",
     "output_type": "stream",
     "text": [
      "[0    0.852291\n",
      "1    0.449324\n",
      "2    0.431757\n",
      "3    0.585976\n",
      "4   -0.077119\n",
      "0    0.837828\n",
      "1   -0.083213\n",
      "2    0.417694\n",
      "3    0.671144\n",
      "4    0.009349\n",
      "0    0.551457\n",
      "1    0.741539\n",
      "2    0.144210\n",
      "3    0.045952\n",
      "4    0.442376\n",
      "0    0.017277\n",
      "1    0.777048\n",
      "2    0.286949\n",
      "3    0.862827\n",
      "4    0.730389\n",
      "0    0.673953\n",
      "1    0.393862\n",
      "2    0.492733\n",
      "3    0.077419\n",
      "4    0.703629\n",
      "0    0.372826\n",
      "1    0.385385\n",
      "2   -0.048618\n",
      "3    0.272739\n",
      "4    0.785516\n",
      "0    0.112403\n",
      "1   -0.042047\n",
      "2    0.358360\n",
      "3    0.471539\n",
      "4    0.447297\n",
      "0    0.420295\n",
      "1    0.022453\n",
      "2    0.716036\n",
      "3   -0.064850\n",
      "4    0.348741\n",
      "0    0.462498\n",
      "1    0.069525\n",
      "2    0.063670\n",
      "3    0.694426\n",
      "4    0.791382\n",
      "0    0.013432\n",
      "1    0.884628\n",
      "2    0.697836\n",
      "3    0.831542\n",
      "4    0.747818\n",
      "Name: 18, dtype: float64]\n"
     ]
    },
    {
     "ename": "AttributeError",
     "evalue": "module 'pandas' has no attribute 'append'",
     "output_type": "error",
     "traceback": [
      "\u001b[0;31m---------------------------------------------------------------------------\u001b[0m",
      "\u001b[0;31mAttributeError\u001b[0m                            Traceback (most recent call last)",
      "\u001b[0;32m<ipython-input-235-537371c329af>\u001b[0m in \u001b[0;36m<module>\u001b[0;34m\u001b[0m\n\u001b[1;32m      5\u001b[0m \u001b[0mprint\u001b[0m\u001b[0;34m(\u001b[0m\u001b[0mnew_frame\u001b[0m\u001b[0;34m)\u001b[0m\u001b[0;34m\u001b[0m\u001b[0;34m\u001b[0m\u001b[0m\n\u001b[1;32m      6\u001b[0m \u001b[0;34m\u001b[0m\u001b[0m\n\u001b[0;32m----> 7\u001b[0;31m \u001b[0mframe\u001b[0m \u001b[0;34m=\u001b[0m \u001b[0mpd\u001b[0m\u001b[0;34m.\u001b[0m\u001b[0mappend\u001b[0m\u001b[0;34m(\u001b[0m\u001b[0mnew_frame\u001b[0m\u001b[0;34m)\u001b[0m\u001b[0;34m\u001b[0m\u001b[0;34m\u001b[0m\u001b[0m\n\u001b[0m\u001b[1;32m      8\u001b[0m \u001b[0mprint\u001b[0m\u001b[0;34m(\u001b[0m\u001b[0mframe\u001b[0m\u001b[0;34m)\u001b[0m\u001b[0;34m\u001b[0m\u001b[0;34m\u001b[0m\u001b[0m\n",
      "\u001b[0;32m/opt/homebrew/lib/python3.9/site-packages/pandas/__init__.py\u001b[0m in \u001b[0;36m__getattr__\u001b[0;34m(name)\u001b[0m\n\u001b[1;32m    242\u001b[0m         \u001b[0;32mreturn\u001b[0m \u001b[0m_SparseArray\u001b[0m\u001b[0;34m\u001b[0m\u001b[0;34m\u001b[0m\u001b[0m\n\u001b[1;32m    243\u001b[0m \u001b[0;34m\u001b[0m\u001b[0m\n\u001b[0;32m--> 244\u001b[0;31m     \u001b[0;32mraise\u001b[0m \u001b[0mAttributeError\u001b[0m\u001b[0;34m(\u001b[0m\u001b[0;34mf\"module 'pandas' has no attribute '{name}'\"\u001b[0m\u001b[0;34m)\u001b[0m\u001b[0;34m\u001b[0m\u001b[0;34m\u001b[0m\u001b[0m\n\u001b[0m\u001b[1;32m    245\u001b[0m \u001b[0;34m\u001b[0m\u001b[0m\n\u001b[1;32m    246\u001b[0m \u001b[0;34m\u001b[0m\u001b[0m\n",
      "\u001b[0;31mAttributeError\u001b[0m: module 'pandas' has no attribute 'append'"
     ]
    }
   ],
   "source": [
    "new_frame=[]\n",
    "calculation = frame['18']-0.1\n",
    "new_frame.append(calculation)\n",
    "\n",
    "print(new_frame)\n",
    "\n",
    "frame = pd.append(new_frame)\n",
    "print(frame)"
   ]
  },
  {
   "cell_type": "markdown",
   "metadata": {},
   "source": [
    "### 10. Use a list comprehension to extract and print all values from the data set that are between 0.7 and 0.75."
   ]
  },
  {
   "cell_type": "code",
   "execution_count": null,
   "metadata": {},
   "outputs": [],
   "source": []
  }
 ],
 "metadata": {
  "kernelspec": {
   "display_name": "Python 3",
   "language": "python",
   "name": "python3"
  },
  "language_info": {
   "codemirror_mode": {
    "name": "ipython",
    "version": 3
   },
   "file_extension": ".py",
   "mimetype": "text/x-python",
   "name": "python",
   "nbconvert_exporter": "python",
   "pygments_lexer": "ipython3",
   "version": "3.9.5"
  }
 },
 "nbformat": 4,
 "nbformat_minor": 2
}
